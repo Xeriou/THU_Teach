{
 "cells": [
  {
   "cell_type": "code",
   "execution_count": 117,
   "metadata": {},
   "outputs": [],
   "source": [
    "import numpy as np\n",
    "import matplotlib.pyplot as plt"
   ]
  },
  {
   "cell_type": "markdown",
   "metadata": {},
   "source": [
    "## Binominal in python\n",
    "\n",
    "假設，有 3(n=3) 枚公平硬幣，正反面出現的機率都是 0.5(p=0.1)，丟 1 次，出現 2 個正面的機率?\n",
    "\n",
    "以代公式來說：\n",
    "\n",
    "$$ \\binom{3}{2}0.5^2(1-0.5)^1 = 0.375  $$\n",
    "\n",
    "但在程式裡，也可以透過大量的採樣(丟很多次)，來取的近似的答案！"
   ]
  },
  {
   "cell_type": "code",
   "execution_count": 118,
   "metadata": {
    "scrolled": true
   },
   "outputs": [
    {
     "name": "stdout",
     "output_type": "stream",
     "text": [
      "Wall time: 0 ns\n"
     ]
    }
   ],
   "source": [
    "%%time\n",
    "n = 3 # 3枚硬幣\n",
    "p = 0.5 # 正面是 0.5\n",
    "time = 200000 # 丟 20 萬次\n",
    "\n",
    "bs = np.random.binomial(n, p, time)"
   ]
  },
  {
   "cell_type": "markdown",
   "metadata": {},
   "source": [
    "以這種方法得到的結果，會是一個有 20萬 個 0~4 的數值陣列\n",
    "\n",
    "其代表的是：3枚硬幣，成功的分別成功(正面)的個數：0個正，1個正，2個正，3個正\n",
    "\n",
    "也可以用 np.unique 來驗證是否真的為 4 種，並得到在20萬次中，各類別出現的次數"
   ]
  },
  {
   "cell_type": "code",
   "execution_count": 119,
   "metadata": {},
   "outputs": [
    {
     "name": "stdout",
     "output_type": "stream",
     "text": [
      "同時 0 個正面，在 200000 次投擲中出現 24825 次，機率為 0.124125\n",
      "同時 1 個正面，在 200000 次投擲中出現 74849 次，機率為 0.374245\n",
      "同時 2 個正面，在 200000 次投擲中出現 75355 次，機率為 0.376775\n",
      "同時 3 個正面，在 200000 次投擲中出現 24971 次，機率為 0.124855\n"
     ]
    }
   ],
   "source": [
    "label, counts = np.unique(bs, return_counts=True)\n",
    "\n",
    "for l,c in zip(label, counts):\n",
    "    print(\"同時 {} 個正面，在 {} 次投擲中出現 {} 次，機率為 {}\".format(l,time,c, c/time))"
   ]
  },
  {
   "cell_type": "markdown",
   "metadata": {},
   "source": [
    "由上述可知，2 正 1 反，在 20 萬次投擲中，非常接近剛剛算出來的數值！\n",
    "\n",
    "因此，機率問題在電腦中，也能利用模擬的方法得出近似值"
   ]
  },
  {
   "cell_type": "markdown",
   "metadata": {},
   "source": [
    "### 不公平的機率\n",
    "\n",
    "野外正在進行 9 口井的探勘工作，每口井能夠挖出水的機率為 0.3，最終能挖到 3 口井有水的機率為何?"
   ]
  },
  {
   "cell_type": "code",
   "execution_count": 120,
   "metadata": {},
   "outputs": [
    {
     "name": "stdout",
     "output_type": "stream",
     "text": [
      "有 0 口井有水，在 200000 次模擬探勘中出現 8179 次，機率為 0.040895\n",
      "有 1 口井有水，在 200000 次模擬探勘中出現 30938 次，機率為 0.15469\n",
      "有 2 口井有水，在 200000 次模擬探勘中出現 53219 次，機率為 0.266095\n",
      "有 3 口井有水，在 200000 次模擬探勘中出現 53478 次，機率為 0.26739\n",
      "有 4 口井有水，在 200000 次模擬探勘中出現 34204 次，機率為 0.17102\n",
      "有 5 口井有水，在 200000 次模擬探勘中出現 14898 次，機率為 0.07449\n",
      "有 6 口井有水，在 200000 次模擬探勘中出現 4233 次，機率為 0.021165\n",
      "有 7 口井有水，在 200000 次模擬探勘中出現 764 次，機率為 0.00382\n",
      "有 8 口井有水，在 200000 次模擬探勘中出現 84 次，機率為 0.00042\n",
      "有 9 口井有水，在 200000 次模擬探勘中出現 3 次，機率為 1.5e-05\n"
     ]
    }
   ],
   "source": [
    "# 練習寫在這\n",
    "\n",
    "n2 = 9\n",
    "p2 = 0.3\n",
    "time2 = 200000\n",
    "\n",
    "bs2 = np.random.binomial(n2, p2, time2)\n",
    "\n",
    "label2, counts2 = np.unique(bs2, return_counts=True)\n",
    "\n",
    "for l,c in zip(label2, counts2):\n",
    "    print(\"有 {} 口井有水，在 {} 次模擬探勘中出現 {} 次，機率為 {}\".format(l,time,c, c/time))"
   ]
  },
  {
   "cell_type": "markdown",
   "metadata": {},
   "source": [
    "有了數據，也就能視覺化，把次數使用 直方圖 視覺化出來\n",
    "\n",
    "matplotlib 能幫我們輕鬆做到這一點\n",
    "\n",
    "使用 plt.hist 並直接把原始資料帶入後，精美的直方圖就出現了"
   ]
  },
  {
   "cell_type": "code",
   "execution_count": 121,
   "metadata": {
    "scrolled": false
   },
   "outputs": [
    {
     "data": {
      "image/png": "[encoded data removed]",
      "text/plain": [
       "<Figure size 720x360 with 1 Axes>"
      ]
     },
     "metadata": {
      "needs_background": "light"
     },
     "output_type": "display_data"
    }
   ],
   "source": [
    "plt.figure(figsize=(10,5))\n",
    "plt.hist(bs, bins=4)\n",
    "plt.xlabel(\"Label\")\n",
    "plt.ylabel(\"Times\")\n",
    "plt.show()"
   ]
  },
  {
   "cell_type": "code",
   "execution_count": 122,
   "metadata": {},
   "outputs": [
    {
     "data": {
      "image/png": "[encoded data removed]",
      "text/plain": [
       "<Figure size 720x360 with 1 Axes>"
      ]
     },
     "metadata": {
      "needs_background": "light"
     },
     "output_type": "display_data"
    }
   ],
   "source": [
    "plt.figure(figsize=(10,5))\n",
    "plt.hist(bs2, bins=9)\n",
    "plt.xlabel(\"Label\")\n",
    "plt.ylabel(\"Times\")\n",
    "plt.show()"
   ]
  },
  {
   "cell_type": "markdown",
   "metadata": {},
   "source": [
    "## Percent mass function (PMF)\n",
    "\n",
    "機率質量函數：在離散數值取得特定數值的質量密度(機率)\n",
    "\n",
    "可以透過 np.unique 取得的出現次數，當作機率\n",
    "\n",
    "若是連續型的資料：則會使用 機率密度函數 (PDF)"
   ]
  },
  {
   "cell_type": "code",
   "execution_count": 168,
   "metadata": {},
   "outputs": [
    {
     "name": "stdout",
     "output_type": "stream",
     "text": [
      "[0 1 2 3]\n",
      "機率各為： [0.124125 0.374245 0.376775 0.124855]\n"
     ]
    }
   ],
   "source": [
    "label, counts = np.unique(bs, return_counts=True)\n",
    "# Numpy 可以對整個陣列同時運算\n",
    "counts_prob = counts / time \n",
    "\n",
    "\n",
    "print(\"機率各為：\", counts_prob)"
   ]
  },
  {
   "cell_type": "markdown",
   "metadata": {},
   "source": [
    "呈現方法就不像是直接帶入到 Hist 裡了\n",
    "\n",
    "分為兩步驟\n",
    "\n",
    "1. 利用 plot 產生標籤和機率對應的點\n",
    "2. 利用 vlines 產生該點到 0 的垂直線(美觀)"
   ]
  },
  {
   "cell_type": "code",
   "execution_count": 175,
   "metadata": {},
   "outputs": [
    {
     "data": {
      "image/png": "[encoded data removed]",
      "text/plain": [
       "<Figure size 432x288 with 1 Axes>"
      ]
     },
     "metadata": {
      "needs_background": "light"
     },
     "output_type": "display_data"
    }
   ],
   "source": [
    "plt.plot(label, counts_prob, 'ro', ms=8, mec='r')\n",
    "plt.vlines(label, 0 , counts_prob, colors='r', linestyles='-', lw=2)\n",
    "plt.title('discrete distribution(PMF)')\n",
    "plt.ylabel('Probability')\n",
    "plt.ylabel('Label')\n",
    "plt.show()"
   ]
  },
  {
   "cell_type": "markdown",
   "metadata": {},
   "source": [
    "## Cumulative distribution function (CDF)\n",
    "\n",
    "累積分布函數：機率密度函數(PDF)的積分\n",
    "\n",
    "在類別資料來說，就是把每個機率加起來，就是累積分布了"
   ]
  },
  {
   "cell_type": "code",
   "execution_count": 157,
   "metadata": {},
   "outputs": [
    {
     "name": "stdout",
     "output_type": "stream",
     "text": [
      "累加機率各為： [0.124125 0.49837  0.875145 1.      ]\n"
     ]
    }
   ],
   "source": [
    "label, counts = np.unique(bs, return_counts=True)\n",
    "# Numpy 可以對整個陣列同時運算\n",
    "counts_prob = counts / time \n",
    "\n",
    "print(\"累加機率各為：\", np.cumsum(counts_prob))"
   ]
  },
  {
   "cell_type": "markdown",
   "metadata": {},
   "source": [
    "累積分布就能利用 hist 增加參數 density=True 和 cumulative=True\n",
    "\n",
    "就能夠畫出"
   ]
  },
  {
   "cell_type": "code",
   "execution_count": 177,
   "metadata": {},
   "outputs": [
    {
     "data": {
      "image/png": "[encoded data removed]",
      "text/plain": [
       "<Figure size 720x360 with 1 Axes>"
      ]
     },
     "metadata": {
      "needs_background": "light"
     },
     "output_type": "display_data"
    }
   ],
   "source": [
    "plt.figure(figsize=(10,5))\n",
    "plt.hist(bs, bins=4, density=True, histtype='step' , cumulative=True)\n",
    "plt.xlabel(\"Label\")\n",
    "plt.ylabel(\"Times\")\n",
    "plt.show()\n"
   ]
  },
  {
   "cell_type": "code",
   "execution_count": null,
   "metadata": {},
   "outputs": [],
   "source": []
  }
 ],
 "metadata": {
  "kernelspec": {
   "display_name": "Python 3",
   "language": "python",
   "name": "python3"
  },
  "language_info": {
   "codemirror_mode": {
    "name": "ipython",
    "version": 3
   },
   "file_extension": ".py",
   "mimetype": "text/x-python",
   "name": "python",
   "nbconvert_exporter": "python",
   "pygments_lexer": "ipython3",
   "version": "3.6.8"
  }
 },
 "nbformat": 4,
 "nbformat_minor": 2
}
