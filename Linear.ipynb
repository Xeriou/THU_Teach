{
  "nbformat": 4,
  "nbformat_minor": 0,
  "metadata": {
    "colab": {
      "name": "Linear",
      "version": "0.3.2",
      "provenance": [],
      "collapsed_sections": [],
      "toc_visible": true,
      "include_colab_link": true
    },
    "kernelspec": {
      "name": "python3",
      "display_name": "Python 3"
    }
  },
  "cells": [
    {
      "cell_type": "markdown",
      "metadata": {
        "id": "view-in-github",
        "colab_type": "text"
      },
      "source": [
        "<a href=\"https://colab.research.google.com/github/Xeriou/THU_Teach/blob/master/Linear.ipynb\" target=\"_parent\"><img src=\"https://colab.research.google.com/assets/colab-badge.svg\" alt=\"Open In Colab\"/></a>"
      ]
    },
    {
      "cell_type": "markdown",
      "metadata": {
        "id": "YiXWi7yL1iTJ",
        "colab_type": "text"
      },
      "source": [
        "# 線性回歸 - 房價預測\n",
        "\n",
        "## 所需套件\n",
        "\n",
        "\n",
        "   1. numpy - 矩陣處理的套件\n",
        "   2. matplotlib - 資料視覺化套件\n",
        "   3. seaborn - 資料視覺化套件，是 matplotlib 在封裝而成，目的是方便呼叫特殊的圖表\n",
        "   4. pandas - 資料處理套件，在 numpy 基礎上加入許多常用的資料處理方法\n",
        "   5. sklearn - 科學運算套件\n",
        "        1. linear_model：有關回歸方程的方法\n",
        "        2. metrics：量測運算結果的方法\n",
        "        3. model_selection train_test_split：方便資料分割的方法\n"
      ]
    },
    {
      "cell_type": "code",
      "metadata": {
        "id": "TOwdYz5YdJb2",
        "colab_type": "code",
        "colab": {}
      },
      "source": [
        "import pandas as pd\n",
        "import numpy as np\n",
        "import matplotlib.pyplot as plt\n",
        "from sklearn import linear_model\n",
        "from sklearn.metrics import mean_squared_error, r2_score # 衡量模型的標準\n",
        "from sklearn.model_selection import train_test_split\n",
        "import seaborn as sns\n",
        "\n",
        "%matplotlib inline"
      ],
      "execution_count": 0,
      "outputs": []
    },
    {
      "cell_type": "markdown",
      "metadata": {
        "id": "Kb8CPnC3dTuG",
        "colab_type": "text"
      },
      "source": [
        "## Data Import - 資料匯入、前處理"
      ]
    },
    {
      "cell_type": "code",
      "metadata": {
        "id": "IC5CVbS2dc2E",
        "colab_type": "code",
        "outputId": "2933deb2-629d-4988-fbbf-05883fab87e4",
        "colab": {
          "base_uri": "https://localhost:8080/",
          "height": 206
        }
      },
      "source": [
        "df = pd.read_csv('A_LAND_mod.csv', encoding='big5')\n",
        "df.sample(5)"
      ],
      "execution_count": 2,
      "outputs": [
        {
          "output_type": "execute_result",
          "data": {
            "text/html": [
              "<div>\n",
              "<style scoped>\n",
              "    .dataframe tbody tr th:only-of-type {\n",
              "        vertical-align: middle;\n",
              "    }\n",
              "\n",
              "    .dataframe tbody tr th {\n",
              "        vertical-align: top;\n",
              "    }\n",
              "\n",
              "    .dataframe thead th {\n",
              "        text-align: right;\n",
              "    }\n",
              "</style>\n",
              "<table border=\"1\" class=\"dataframe\">\n",
              "  <thead>\n",
              "    <tr style=\"text-align: right;\">\n",
              "      <th></th>\n",
              "      <th>Type</th>\n",
              "      <th>Land Area(m2)</th>\n",
              "      <th>Building Age</th>\n",
              "      <th>Building Area(m2)</th>\n",
              "      <th>Price</th>\n",
              "      <th>Price per area(NTD/m2)</th>\n",
              "      <th>Parking Area((m2))</th>\n",
              "      <th>Parking Area</th>\n",
              "    </tr>\n",
              "  </thead>\n",
              "  <tbody>\n",
              "    <tr>\n",
              "      <th>577</th>\n",
              "      <td>房地(土地+建物)</td>\n",
              "      <td>28.30</td>\n",
              "      <td>661228</td>\n",
              "      <td>131.78</td>\n",
              "      <td>17900000</td>\n",
              "      <td>135832</td>\n",
              "      <td>0.00</td>\n",
              "      <td>0</td>\n",
              "    </tr>\n",
              "    <tr>\n",
              "      <th>117</th>\n",
              "      <td>房地(土地+建物)+車位</td>\n",
              "      <td>100.49</td>\n",
              "      <td>791213</td>\n",
              "      <td>705.99</td>\n",
              "      <td>57187920</td>\n",
              "      <td>81004</td>\n",
              "      <td>0.00</td>\n",
              "      <td>0</td>\n",
              "    </tr>\n",
              "    <tr>\n",
              "      <th>26</th>\n",
              "      <td>房地(土地+建物)</td>\n",
              "      <td>49.24</td>\n",
              "      <td>860526</td>\n",
              "      <td>129.81</td>\n",
              "      <td>14680000</td>\n",
              "      <td>113088</td>\n",
              "      <td>0.00</td>\n",
              "      <td>0</td>\n",
              "    </tr>\n",
              "    <tr>\n",
              "      <th>119</th>\n",
              "      <td>房地(土地+建物)</td>\n",
              "      <td>14.39</td>\n",
              "      <td>800112</td>\n",
              "      <td>69.69</td>\n",
              "      <td>14150000</td>\n",
              "      <td>203042</td>\n",
              "      <td>0.00</td>\n",
              "      <td>0</td>\n",
              "    </tr>\n",
              "    <tr>\n",
              "      <th>350</th>\n",
              "      <td>房地(土地+建物)+車位</td>\n",
              "      <td>28.86</td>\n",
              "      <td>1051108</td>\n",
              "      <td>191.77</td>\n",
              "      <td>32000000</td>\n",
              "      <td>194397</td>\n",
              "      <td>38.99</td>\n",
              "      <td>2300000</td>\n",
              "    </tr>\n",
              "  </tbody>\n",
              "</table>\n",
              "</div>"
            ],
            "text/plain": [
              "             Type  Land Area(m2)  ...  Parking Area((m2))  Parking Area\n",
              "577     房地(土地+建物)          28.30  ...                0.00             0\n",
              "117  房地(土地+建物)+車位         100.49  ...                0.00             0\n",
              "26      房地(土地+建物)          49.24  ...                0.00             0\n",
              "119     房地(土地+建物)          14.39  ...                0.00             0\n",
              "350  房地(土地+建物)+車位          28.86  ...               38.99       2300000\n",
              "\n",
              "[5 rows x 8 columns]"
            ]
          },
          "metadata": {
            "tags": []
          },
          "execution_count": 2
        }
      ]
    },
    {
      "cell_type": "code",
      "metadata": {
        "id": "Ax1edP-JqPYA",
        "colab_type": "code",
        "colab": {}
      },
      "source": [
        "df[\"Age\"] = 108 - (df['Building Age'] / 10000) #處理 建物年分\n",
        "df[\"Price\"] = df[\"Price\"] / 10000 # 以萬元為單位"
      ],
      "execution_count": 0,
      "outputs": []
    },
    {
      "cell_type": "markdown",
      "metadata": {
        "id": "UpBGsc0ZrqmC",
        "colab_type": "text"
      },
      "source": [
        "### 分布圖呈現"
      ]
    },
    {
      "cell_type": "code",
      "metadata": {
        "id": "osJN9nTNdkWh",
        "colab_type": "code",
        "outputId": "417e64f1-a8ff-4c28-bb2f-3f1de84ae28b",
        "colab": {
          "base_uri": "https://localhost:8080/",
          "height": 404
        }
      },
      "source": [
        "plt.figure(figsize=(10,6))\n",
        "plt.title('Relation of total area and price')\n",
        "plt.xlabel(\"Total area\")\n",
        "plt.ylabel(\"Price\")\n",
        "plt.scatter(x=df[['Building Area(m2)']], y=df[['Price']])\n",
        "plt.show()"
      ],
      "execution_count": 4,
      "outputs": [
        {
          "output_type": "display_data",
          "data": {
            "image/png": "[encoded data removed]",
            "text/plain": [
              "<Figure size 720x432 with 1 Axes>"
            ]
          },
          "metadata": {
            "tags": []
          }
        }
      ]
    },
    {
      "cell_type": "markdown",
      "metadata": {
        "id": "MXXUvmr3xg_N",
        "colab_type": "text"
      },
      "source": [
        "移除極端值"
      ]
    },
    {
      "cell_type": "code",
      "metadata": {
        "id": "gdezwrz7xkz-",
        "colab_type": "code",
        "outputId": "75f62b23-8539-4364-81cd-163bc39174e2",
        "colab": {
          "base_uri": "https://localhost:8080/",
          "height": 404
        }
      },
      "source": [
        "df = df[df['Building Area(m2)'] < 2000] # 移除極端值\n",
        "plt.figure(figsize=(10,6))\n",
        "plt.title('Relation of total area and price')\n",
        "plt.xlabel(\"Total area\")\n",
        "plt.ylabel(\"Price\")\n",
        "plt.scatter(x=df[['Building Area(m2)']], y=df[['Price']])\n",
        "plt.show()"
      ],
      "execution_count": 6,
      "outputs": [
        {
          "output_type": "display_data",
          "data": {
            "image/png": "[encoded data removed]",
            "text/plain": [
              "<Figure size 720x432 with 1 Axes>"
            ]
          },
          "metadata": {
            "tags": []
          }
        }
      ]
    },
    {
      "cell_type": "markdown",
      "metadata": {
        "id": "ut2ySv4Qrjl0",
        "colab_type": "text"
      },
      "source": [
        "## 母體相關係數/相依矩陣\n",
        "\n",
        "呈現欄位與欄位之間的 \"相關性\"\n",
        "\n",
        "數字越大，相關性越高\n",
        "\n",
        "若用 numpy 也是可以利用 np.corrcoef 來一個一個組合成\n",
        "\n",
        "但 pandas 可直接針對資料集，一次完成全部的 correlation coefficient\n",
        "\n",
        "我們可以利用 heatmap 視覺化相依矩陣\n",
        "\n",
        "matplotlib 當然能做到，但需要自行實作 function\n",
        "\n",
        "而 seaborn 則直接提供了 heatmap 方法，所以就好好利用吧"
      ]
    },
    {
      "cell_type": "code",
      "metadata": {
        "id": "YV-WqvMhomc0",
        "colab_type": "code",
        "outputId": "48f18e94-c112-4a51-c56e-b98661bee7cf",
        "colab": {
          "base_uri": "https://localhost:8080/",
          "height": 269
        }
      },
      "source": [
        "df = df.drop(columns=['Type','Building Age']) # 將不必要的欄位丟棄\n",
        "corr = df.corr() # 相依矩陣\n",
        "\n",
        "corr"
      ],
      "execution_count": 7,
      "outputs": [
        {
          "output_type": "execute_result",
          "data": {
            "text/html": [
              "<div>\n",
              "<style scoped>\n",
              "    .dataframe tbody tr th:only-of-type {\n",
              "        vertical-align: middle;\n",
              "    }\n",
              "\n",
              "    .dataframe tbody tr th {\n",
              "        vertical-align: top;\n",
              "    }\n",
              "\n",
              "    .dataframe thead th {\n",
              "        text-align: right;\n",
              "    }\n",
              "</style>\n",
              "<table border=\"1\" class=\"dataframe\">\n",
              "  <thead>\n",
              "    <tr style=\"text-align: right;\">\n",
              "      <th></th>\n",
              "      <th>Land Area(m2)</th>\n",
              "      <th>Building Area(m2)</th>\n",
              "      <th>Price</th>\n",
              "      <th>Price per area(NTD/m2)</th>\n",
              "      <th>Parking Area((m2))</th>\n",
              "      <th>Parking Area</th>\n",
              "      <th>Age</th>\n",
              "    </tr>\n",
              "  </thead>\n",
              "  <tbody>\n",
              "    <tr>\n",
              "      <th>Land Area(m2)</th>\n",
              "      <td>1.000000</td>\n",
              "      <td>0.678440</td>\n",
              "      <td>0.514500</td>\n",
              "      <td>0.068584</td>\n",
              "      <td>0.389892</td>\n",
              "      <td>0.348161</td>\n",
              "      <td>-0.067932</td>\n",
              "    </tr>\n",
              "    <tr>\n",
              "      <th>Building Area(m2)</th>\n",
              "      <td>0.678440</td>\n",
              "      <td>1.000000</td>\n",
              "      <td>0.862205</td>\n",
              "      <td>0.272360</td>\n",
              "      <td>0.736442</td>\n",
              "      <td>0.624706</td>\n",
              "      <td>-0.411173</td>\n",
              "    </tr>\n",
              "    <tr>\n",
              "      <th>Price</th>\n",
              "      <td>0.514500</td>\n",
              "      <td>0.862205</td>\n",
              "      <td>1.000000</td>\n",
              "      <td>0.566577</td>\n",
              "      <td>0.630954</td>\n",
              "      <td>0.683079</td>\n",
              "      <td>-0.403201</td>\n",
              "    </tr>\n",
              "    <tr>\n",
              "      <th>Price per area(NTD/m2)</th>\n",
              "      <td>0.068584</td>\n",
              "      <td>0.272360</td>\n",
              "      <td>0.566577</td>\n",
              "      <td>1.000000</td>\n",
              "      <td>0.260050</td>\n",
              "      <td>0.367962</td>\n",
              "      <td>-0.362536</td>\n",
              "    </tr>\n",
              "    <tr>\n",
              "      <th>Parking Area((m2))</th>\n",
              "      <td>0.389892</td>\n",
              "      <td>0.736442</td>\n",
              "      <td>0.630954</td>\n",
              "      <td>0.260050</td>\n",
              "      <td>1.000000</td>\n",
              "      <td>0.739324</td>\n",
              "      <td>-0.464061</td>\n",
              "    </tr>\n",
              "    <tr>\n",
              "      <th>Parking Area</th>\n",
              "      <td>0.348161</td>\n",
              "      <td>0.624706</td>\n",
              "      <td>0.683079</td>\n",
              "      <td>0.367962</td>\n",
              "      <td>0.739324</td>\n",
              "      <td>1.000000</td>\n",
              "      <td>-0.359245</td>\n",
              "    </tr>\n",
              "    <tr>\n",
              "      <th>Age</th>\n",
              "      <td>-0.067932</td>\n",
              "      <td>-0.411173</td>\n",
              "      <td>-0.403201</td>\n",
              "      <td>-0.362536</td>\n",
              "      <td>-0.464061</td>\n",
              "      <td>-0.359245</td>\n",
              "      <td>1.000000</td>\n",
              "    </tr>\n",
              "  </tbody>\n",
              "</table>\n",
              "</div>"
            ],
            "text/plain": [
              "                        Land Area(m2)  ...       Age\n",
              "Land Area(m2)                1.000000  ... -0.067932\n",
              "Building Area(m2)            0.678440  ... -0.411173\n",
              "Price                        0.514500  ... -0.403201\n",
              "Price per area(NTD/m2)       0.068584  ... -0.362536\n",
              "Parking Area((m2))           0.389892  ... -0.464061\n",
              "Parking Area                 0.348161  ... -0.359245\n",
              "Age                         -0.067932  ...  1.000000\n",
              "\n",
              "[7 rows x 7 columns]"
            ]
          },
          "metadata": {
            "tags": []
          },
          "execution_count": 7
        }
      ]
    },
    {
      "cell_type": "code",
      "metadata": {
        "id": "wV0aQa4N3hqt",
        "colab_type": "code",
        "colab": {
          "base_uri": "https://localhost:8080/",
          "height": 556
        },
        "outputId": "e2afbd44-200b-41ef-985b-aba67013dc23"
      },
      "source": [
        "plt.figure(figsize=(8,8))\n",
        "sns.heatmap(corr, square=True, annot=True)\n",
        "plt.show()"
      ],
      "execution_count": 8,
      "outputs": [
        {
          "output_type": "display_data",
          "data": {
            "image/png": "[encoded data removed]",
            "text/plain": [
              "<Figure size 576x576 with 2 Axes>"
            ]
          },
          "metadata": {
            "tags": []
          }
        }
      ]
    },
    {
      "cell_type": "markdown",
      "metadata": {
        "id": "QoWA9nHTr9RN",
        "colab_type": "text"
      },
      "source": [
        "## 製作訓練/測試資料集\n",
        "\n",
        "我們必須把資料分為 訓練集 和 測試集\n",
        "\n",
        "利用測試集 測試 續練集 訓練出來的 model 或公式符合預期\n",
        "\n",
        "利用 train_test_split 能夠方便設定資料比例，這裡設定是 7:3"
      ]
    },
    {
      "cell_type": "code",
      "metadata": {
        "id": "C8zRz9vcf2D_",
        "colab_type": "code",
        "outputId": "bb59949a-c5f4-4e8c-9465-bee8ab43383a",
        "colab": {
          "base_uri": "https://localhost:8080/",
          "height": 237
        }
      },
      "source": [
        "X = df[['Building Area(m2)']]\n",
        "y = df[['Price']]\n",
        "X_train, X_test, y_train, y_test = train_test_split(X, y, test_size = 0.3) # 30% for testing, 70% for training\n",
        "print(X_train.head())\n",
        "print(X_test.head())"
      ],
      "execution_count": 9,
      "outputs": [
        {
          "output_type": "stream",
          "text": [
            "     Building Area(m2)\n",
            "377              79.97\n",
            "269              33.54\n",
            "215             209.50\n",
            "437             105.45\n",
            "133             106.46\n",
            "     Building Area(m2)\n",
            "465             153.42\n",
            "341             138.88\n",
            "81               38.68\n",
            "176             194.80\n",
            "598             115.24\n"
          ],
          "name": "stdout"
        }
      ]
    },
    {
      "cell_type": "markdown",
      "metadata": {
        "id": "fjOH-nj0sJ4n",
        "colab_type": "text"
      },
      "source": [
        "## 建立線性回歸模型\n",
        "\n",
        "sklearn 中 linear_model 提供了許多回歸的模型\n",
        "\n",
        "這裡創建了一個 LinearRegression\n",
        "\n",
        "並起把訓練集 和 訓練集答案 fit 進去 (訓練 model)\n",
        "\n",
        "過程非常快\n",
        "\n",
        "訓練完，利用 predict 來預測 測試集\n",
        "\n",
        "最後，利用 metrics 所提供的 RMSE & MAE 衡量預測數值的誤差\n",
        "\n",
        "幾乎所有關於數值預測的資料，都會利用這兩種方法衡量"
      ]
    },
    {
      "cell_type": "code",
      "metadata": {
        "id": "J0IBowPGgCX4",
        "colab_type": "code",
        "outputId": "fd29f3a2-fba0-457e-dc50-d96bc5986e4d",
        "colab": {
          "base_uri": "https://localhost:8080/",
          "height": 35
        }
      },
      "source": [
        "regr = linear_model.LinearRegression()\n",
        "regr.fit(X_train, y_train) # 訓練"
      ],
      "execution_count": 10,
      "outputs": [
        {
          "output_type": "execute_result",
          "data": {
            "text/plain": [
              "LinearRegression(copy_X=True, fit_intercept=True, n_jobs=None, normalize=False)"
            ]
          },
          "metadata": {
            "tags": []
          },
          "execution_count": 10
        }
      ]
    },
    {
      "cell_type": "code",
      "metadata": {
        "id": "YNkLPy0agTg5",
        "colab_type": "code",
        "outputId": "4951311e-ec10-475e-9dd6-f3af31e3778d",
        "colab": {
          "base_uri": "https://localhost:8080/",
          "height": 90
        }
      },
      "source": [
        "pred = regr.predict(X_test) # 預測\n",
        "\n",
        "print('各變項參數:', regr.coef_)\n",
        "print(\"MSE: %.2f\" % mean_squared_error(pred, y_test))\n",
        "print(\"RMSE: %.2f\" % np.sqrt(mean_squared_error(pred, y_test)))\n",
        "print(\"R Square: %.2f\" % r2_score(y_test, pred))"
      ],
      "execution_count": 11,
      "outputs": [
        {
          "output_type": "stream",
          "text": [
            "各變項參數: [[22.94310706]]\n",
            "MSE: 997979.34\n",
            "RMSE: 998.99\n",
            "R Square: 0.71\n"
          ],
          "name": "stdout"
        }
      ]
    },
    {
      "cell_type": "code",
      "metadata": {
        "id": "h-iGLH4LgeA-",
        "colab_type": "code",
        "outputId": "47e8d352-0fbe-413b-ab3d-8ea2c31fae1f",
        "colab": {
          "base_uri": "https://localhost:8080/",
          "height": 392
        }
      },
      "source": [
        "plt.figure(figsize=(10,6))  #調整作圖大小\n",
        "plt.scatter(X_train, y_train,  color='blue', marker = 'x')\n",
        "plt.plot(X_train, regr.predict(X_train), color='green', linewidth=1)\n",
        "\n",
        "plt.ylabel('Price')\n",
        "plt.xlabel('Total Area')\n",
        "\n",
        "plt.show()"
      ],
      "execution_count": 12,
      "outputs": [
        {
          "output_type": "display_data",
          "data": {
            "image/png": "[encoded data removed]",
            "text/plain": [
              "<Figure size 720x432 with 1 Axes>"
            ]
          },
          "metadata": {
            "tags": []
          }
        }
      ]
    },
    {
      "cell_type": "markdown",
      "metadata": {
        "id": "yFcgVSAYy_vX",
        "colab_type": "text"
      },
      "source": [
        "### 多變數 線性回歸"
      ]
    },
    {
      "cell_type": "code",
      "metadata": {
        "id": "5enpUyEfy_Wo",
        "colab_type": "code",
        "outputId": "580658ec-9c3c-4c02-a773-514d0d21df96",
        "colab": {
          "base_uri": "https://localhost:8080/",
          "height": 237
        }
      },
      "source": [
        "X = df[['Building Area(m2)','Land Area(m2)', 'Age']]\n",
        "y = df[['Price']]\n",
        "X_train, X_test, y_train, y_test = train_test_split(X, y, test_size = 0.3) # 30% for testing, 70% for training\n",
        "print(X_train.head())\n",
        "print(X_test.head())"
      ],
      "execution_count": 13,
      "outputs": [
        {
          "output_type": "stream",
          "text": [
            "     Building Area(m2)  Land Area(m2)      Age\n",
            "292              66.74           0.00   2.8770\n",
            "81               38.68          17.83  51.9079\n",
            "634             340.30          53.42   3.9571\n",
            "342              74.19          36.09  25.9490\n",
            "216              31.01           2.83  34.9073\n",
            "     Building Area(m2)  Land Area(m2)      Age\n",
            "72               68.62           5.30  12.9582\n",
            "232             124.34          12.61  31.8970\n",
            "134             157.47          19.80   1.9888\n",
            "485              96.77          13.61  32.9480\n",
            "182             124.25          13.92   7.9887\n"
          ],
          "name": "stdout"
        }
      ]
    },
    {
      "cell_type": "code",
      "metadata": {
        "id": "0MLzT4rOypxN",
        "colab_type": "code",
        "outputId": "ec6b67b9-9e2f-47f7-8f66-698982d2316f",
        "colab": {
          "base_uri": "https://localhost:8080/",
          "height": 90
        }
      },
      "source": [
        "regr = linear_model.LinearRegression()\n",
        "regr.fit(X_train, y_train)\n",
        "pred = regr.predict(X_test)\n",
        "print('各變項參數:', regr.coef_)\n",
        "print(\"MSE: %.2f\" % mean_squared_error(pred, y_test))\n",
        "print(\"RMSE: %.2f\" % np.sqrt(mean_squared_error(pred, y_test)))\n",
        "print(\"R Square: %.2f\" % r2_score(pred, y_test))"
      ],
      "execution_count": 14,
      "outputs": [
        {
          "output_type": "stream",
          "text": [
            "各變項參數: [[ 25.69335039 -18.06503057   1.80650263]]\n",
            "MSE: 1205327.37\n",
            "RMSE: 1097.87\n",
            "R Square: 0.71\n"
          ],
          "name": "stdout"
        }
      ]
    }
  ]
}